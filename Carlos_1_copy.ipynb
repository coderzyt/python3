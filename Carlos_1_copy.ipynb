{
 "cells": [
  {
   "cell_type": "code",
   "execution_count": 1,
   "metadata": {
    "pycharm": {
     "is_executing": false
    }
   },
   "outputs": [],
   "source": [
    "#invite people for the Kaggle party\n",
    "import pandas as pd\n",
    "import numpy as np\n",
    "import warnings\n",
    "import datetime\n",
    "warnings.filterwarnings('ignore')\n",
    "%matplotlib inline"
   ]
  },
  {
   "cell_type": "code",
   "execution_count": 3,
   "metadata": {
    "pycharm": {
     "is_executing": false
    }
   },
   "outputs": [
    {
     "traceback": [
      "\u001b[0;31m---------------------------------------------------------------------------\u001b[0m",
      "\u001b[0;31mFileNotFoundError\u001b[0m                         Traceback (most recent call last)",
      "\u001b[0;32m<ipython-input-3-8595028ce91a>\u001b[0m in \u001b[0;36m<module>\u001b[0;34m\u001b[0m\n\u001b[0;32m----> 1\u001b[0;31m \u001b[0mtrain\u001b[0m \u001b[0;34m=\u001b[0m \u001b[0mpd\u001b[0m\u001b[0;34m.\u001b[0m\u001b[0mread_csv\u001b[0m\u001b[0;34m(\u001b[0m\u001b[0;34m'./train.csv.gz'\u001b[0m\u001b[0;34m,\u001b[0m\u001b[0mindex_col\u001b[0m\u001b[0;34m=\u001b[0m\u001b[0;36m0\u001b[0m\u001b[0;34m)\u001b[0m\u001b[0;34m\u001b[0m\u001b[0;34m\u001b[0m\u001b[0m\n\u001b[0m\u001b[1;32m      2\u001b[0m \u001b[0mtest\u001b[0m \u001b[0;34m=\u001b[0m \u001b[0mpd\u001b[0m\u001b[0;34m.\u001b[0m\u001b[0mread_csv\u001b[0m\u001b[0;34m(\u001b[0m\u001b[0;34m'./test2.csv.gz'\u001b[0m\u001b[0;34m,\u001b[0m\u001b[0mindex_col\u001b[0m\u001b[0;34m=\u001b[0m\u001b[0;36m0\u001b[0m\u001b[0;34m)\u001b[0m\u001b[0;34m\u001b[0m\u001b[0;34m\u001b[0m\u001b[0m\n\u001b[1;32m      3\u001b[0m \u001b[0mprint\u001b[0m\u001b[0;34m(\u001b[0m\u001b[0mtrain\u001b[0m\u001b[0;34m.\u001b[0m\u001b[0mshape\u001b[0m\u001b[0;34m)\u001b[0m\u001b[0;34m\u001b[0m\u001b[0;34m\u001b[0m\u001b[0m\n\u001b[1;32m      4\u001b[0m \u001b[0mprint\u001b[0m\u001b[0;34m(\u001b[0m\u001b[0mtest\u001b[0m\u001b[0;34m.\u001b[0m\u001b[0mshape\u001b[0m\u001b[0;34m)\u001b[0m\u001b[0;34m\u001b[0m\u001b[0;34m\u001b[0m\u001b[0m\n\u001b[1;32m      5\u001b[0m \u001b[0;34m\u001b[0m\u001b[0m\n",
      "\u001b[0;32m~/anaconda3/lib/python3.7/site-packages/pandas/io/parsers.py\u001b[0m in \u001b[0;36mparser_f\u001b[0;34m(filepath_or_buffer, sep, delimiter, header, names, index_col, usecols, squeeze, prefix, mangle_dupe_cols, dtype, engine, converters, true_values, false_values, skipinitialspace, skiprows, skipfooter, nrows, na_values, keep_default_na, na_filter, verbose, skip_blank_lines, parse_dates, infer_datetime_format, keep_date_col, date_parser, dayfirst, cache_dates, iterator, chunksize, compression, thousands, decimal, lineterminator, quotechar, quoting, doublequote, escapechar, comment, encoding, dialect, error_bad_lines, warn_bad_lines, delim_whitespace, low_memory, memory_map, float_precision)\u001b[0m\n\u001b[1;32m    683\u001b[0m         )\n\u001b[1;32m    684\u001b[0m \u001b[0;34m\u001b[0m\u001b[0m\n\u001b[0;32m--> 685\u001b[0;31m         \u001b[0;32mreturn\u001b[0m \u001b[0m_read\u001b[0m\u001b[0;34m(\u001b[0m\u001b[0mfilepath_or_buffer\u001b[0m\u001b[0;34m,\u001b[0m \u001b[0mkwds\u001b[0m\u001b[0;34m)\u001b[0m\u001b[0;34m\u001b[0m\u001b[0;34m\u001b[0m\u001b[0m\n\u001b[0m\u001b[1;32m    686\u001b[0m \u001b[0;34m\u001b[0m\u001b[0m\n\u001b[1;32m    687\u001b[0m     \u001b[0mparser_f\u001b[0m\u001b[0;34m.\u001b[0m\u001b[0m__name__\u001b[0m \u001b[0;34m=\u001b[0m \u001b[0mname\u001b[0m\u001b[0;34m\u001b[0m\u001b[0;34m\u001b[0m\u001b[0m\n",
      "\u001b[0;32m~/anaconda3/lib/python3.7/site-packages/pandas/io/parsers.py\u001b[0m in \u001b[0;36m_read\u001b[0;34m(filepath_or_buffer, kwds)\u001b[0m\n\u001b[1;32m    455\u001b[0m \u001b[0;34m\u001b[0m\u001b[0m\n\u001b[1;32m    456\u001b[0m     \u001b[0;31m# Create the parser.\u001b[0m\u001b[0;34m\u001b[0m\u001b[0;34m\u001b[0m\u001b[0;34m\u001b[0m\u001b[0m\n\u001b[0;32m--> 457\u001b[0;31m     \u001b[0mparser\u001b[0m \u001b[0;34m=\u001b[0m \u001b[0mTextFileReader\u001b[0m\u001b[0;34m(\u001b[0m\u001b[0mfp_or_buf\u001b[0m\u001b[0;34m,\u001b[0m \u001b[0;34m**\u001b[0m\u001b[0mkwds\u001b[0m\u001b[0;34m)\u001b[0m\u001b[0;34m\u001b[0m\u001b[0;34m\u001b[0m\u001b[0m\n\u001b[0m\u001b[1;32m    458\u001b[0m \u001b[0;34m\u001b[0m\u001b[0m\n\u001b[1;32m    459\u001b[0m     \u001b[0;32mif\u001b[0m \u001b[0mchunksize\u001b[0m \u001b[0;32mor\u001b[0m \u001b[0miterator\u001b[0m\u001b[0;34m:\u001b[0m\u001b[0;34m\u001b[0m\u001b[0;34m\u001b[0m\u001b[0m\n",
      "\u001b[0;32m~/anaconda3/lib/python3.7/site-packages/pandas/io/parsers.py\u001b[0m in \u001b[0;36m__init__\u001b[0;34m(self, f, engine, **kwds)\u001b[0m\n\u001b[1;32m    893\u001b[0m             \u001b[0mself\u001b[0m\u001b[0;34m.\u001b[0m\u001b[0moptions\u001b[0m\u001b[0;34m[\u001b[0m\u001b[0;34m\"has_index_names\"\u001b[0m\u001b[0;34m]\u001b[0m \u001b[0;34m=\u001b[0m \u001b[0mkwds\u001b[0m\u001b[0;34m[\u001b[0m\u001b[0;34m\"has_index_names\"\u001b[0m\u001b[0;34m]\u001b[0m\u001b[0;34m\u001b[0m\u001b[0;34m\u001b[0m\u001b[0m\n\u001b[1;32m    894\u001b[0m \u001b[0;34m\u001b[0m\u001b[0m\n\u001b[0;32m--> 895\u001b[0;31m         \u001b[0mself\u001b[0m\u001b[0;34m.\u001b[0m\u001b[0m_make_engine\u001b[0m\u001b[0;34m(\u001b[0m\u001b[0mself\u001b[0m\u001b[0;34m.\u001b[0m\u001b[0mengine\u001b[0m\u001b[0;34m)\u001b[0m\u001b[0;34m\u001b[0m\u001b[0;34m\u001b[0m\u001b[0m\n\u001b[0m\u001b[1;32m    896\u001b[0m \u001b[0;34m\u001b[0m\u001b[0m\n\u001b[1;32m    897\u001b[0m     \u001b[0;32mdef\u001b[0m \u001b[0mclose\u001b[0m\u001b[0;34m(\u001b[0m\u001b[0mself\u001b[0m\u001b[0;34m)\u001b[0m\u001b[0;34m:\u001b[0m\u001b[0;34m\u001b[0m\u001b[0;34m\u001b[0m\u001b[0m\n",
      "\u001b[0;32m~/anaconda3/lib/python3.7/site-packages/pandas/io/parsers.py\u001b[0m in \u001b[0;36m_make_engine\u001b[0;34m(self, engine)\u001b[0m\n\u001b[1;32m   1133\u001b[0m     \u001b[0;32mdef\u001b[0m \u001b[0m_make_engine\u001b[0m\u001b[0;34m(\u001b[0m\u001b[0mself\u001b[0m\u001b[0;34m,\u001b[0m \u001b[0mengine\u001b[0m\u001b[0;34m=\u001b[0m\u001b[0;34m\"c\"\u001b[0m\u001b[0;34m)\u001b[0m\u001b[0;34m:\u001b[0m\u001b[0;34m\u001b[0m\u001b[0;34m\u001b[0m\u001b[0m\n\u001b[1;32m   1134\u001b[0m         \u001b[0;32mif\u001b[0m \u001b[0mengine\u001b[0m \u001b[0;34m==\u001b[0m \u001b[0;34m\"c\"\u001b[0m\u001b[0;34m:\u001b[0m\u001b[0;34m\u001b[0m\u001b[0;34m\u001b[0m\u001b[0m\n\u001b[0;32m-> 1135\u001b[0;31m             \u001b[0mself\u001b[0m\u001b[0;34m.\u001b[0m\u001b[0m_engine\u001b[0m \u001b[0;34m=\u001b[0m \u001b[0mCParserWrapper\u001b[0m\u001b[0;34m(\u001b[0m\u001b[0mself\u001b[0m\u001b[0;34m.\u001b[0m\u001b[0mf\u001b[0m\u001b[0;34m,\u001b[0m \u001b[0;34m**\u001b[0m\u001b[0mself\u001b[0m\u001b[0;34m.\u001b[0m\u001b[0moptions\u001b[0m\u001b[0;34m)\u001b[0m\u001b[0;34m\u001b[0m\u001b[0;34m\u001b[0m\u001b[0m\n\u001b[0m\u001b[1;32m   1136\u001b[0m         \u001b[0;32melse\u001b[0m\u001b[0;34m:\u001b[0m\u001b[0;34m\u001b[0m\u001b[0;34m\u001b[0m\u001b[0m\n\u001b[1;32m   1137\u001b[0m             \u001b[0;32mif\u001b[0m \u001b[0mengine\u001b[0m \u001b[0;34m==\u001b[0m \u001b[0;34m\"python\"\u001b[0m\u001b[0;34m:\u001b[0m\u001b[0;34m\u001b[0m\u001b[0;34m\u001b[0m\u001b[0m\n",
      "\u001b[0;32m~/anaconda3/lib/python3.7/site-packages/pandas/io/parsers.py\u001b[0m in \u001b[0;36m__init__\u001b[0;34m(self, src, **kwds)\u001b[0m\n\u001b[1;32m   1915\u001b[0m         \u001b[0mkwds\u001b[0m\u001b[0;34m[\u001b[0m\u001b[0;34m\"usecols\"\u001b[0m\u001b[0;34m]\u001b[0m \u001b[0;34m=\u001b[0m \u001b[0mself\u001b[0m\u001b[0;34m.\u001b[0m\u001b[0musecols\u001b[0m\u001b[0;34m\u001b[0m\u001b[0;34m\u001b[0m\u001b[0m\n\u001b[1;32m   1916\u001b[0m \u001b[0;34m\u001b[0m\u001b[0m\n\u001b[0;32m-> 1917\u001b[0;31m         \u001b[0mself\u001b[0m\u001b[0;34m.\u001b[0m\u001b[0m_reader\u001b[0m \u001b[0;34m=\u001b[0m \u001b[0mparsers\u001b[0m\u001b[0;34m.\u001b[0m\u001b[0mTextReader\u001b[0m\u001b[0;34m(\u001b[0m\u001b[0msrc\u001b[0m\u001b[0;34m,\u001b[0m \u001b[0;34m**\u001b[0m\u001b[0mkwds\u001b[0m\u001b[0;34m)\u001b[0m\u001b[0;34m\u001b[0m\u001b[0;34m\u001b[0m\u001b[0m\n\u001b[0m\u001b[1;32m   1918\u001b[0m         \u001b[0mself\u001b[0m\u001b[0;34m.\u001b[0m\u001b[0munnamed_cols\u001b[0m \u001b[0;34m=\u001b[0m \u001b[0mself\u001b[0m\u001b[0;34m.\u001b[0m\u001b[0m_reader\u001b[0m\u001b[0;34m.\u001b[0m\u001b[0munnamed_cols\u001b[0m\u001b[0;34m\u001b[0m\u001b[0;34m\u001b[0m\u001b[0m\n\u001b[1;32m   1919\u001b[0m \u001b[0;34m\u001b[0m\u001b[0m\n",
      "\u001b[0;32mpandas/_libs/parsers.pyx\u001b[0m in \u001b[0;36mpandas._libs.parsers.TextReader.__cinit__\u001b[0;34m()\u001b[0m\n",
      "\u001b[0;32mpandas/_libs/parsers.pyx\u001b[0m in \u001b[0;36mpandas._libs.parsers.TextReader._setup_parser_source\u001b[0;34m()\u001b[0m\n",
      "\u001b[0;32m~/anaconda3/lib/python3.7/gzip.py\u001b[0m in \u001b[0;36m__init__\u001b[0;34m(self, filename, mode, compresslevel, fileobj, mtime)\u001b[0m\n\u001b[1;32m    161\u001b[0m             \u001b[0mmode\u001b[0m \u001b[0;34m+=\u001b[0m \u001b[0;34m'b'\u001b[0m\u001b[0;34m\u001b[0m\u001b[0;34m\u001b[0m\u001b[0m\n\u001b[1;32m    162\u001b[0m         \u001b[0;32mif\u001b[0m \u001b[0mfileobj\u001b[0m \u001b[0;32mis\u001b[0m \u001b[0;32mNone\u001b[0m\u001b[0;34m:\u001b[0m\u001b[0;34m\u001b[0m\u001b[0;34m\u001b[0m\u001b[0m\n\u001b[0;32m--> 163\u001b[0;31m             \u001b[0mfileobj\u001b[0m \u001b[0;34m=\u001b[0m \u001b[0mself\u001b[0m\u001b[0;34m.\u001b[0m\u001b[0mmyfileobj\u001b[0m \u001b[0;34m=\u001b[0m \u001b[0mbuiltins\u001b[0m\u001b[0;34m.\u001b[0m\u001b[0mopen\u001b[0m\u001b[0;34m(\u001b[0m\u001b[0mfilename\u001b[0m\u001b[0;34m,\u001b[0m \u001b[0mmode\u001b[0m \u001b[0;32mor\u001b[0m \u001b[0;34m'rb'\u001b[0m\u001b[0;34m)\u001b[0m\u001b[0;34m\u001b[0m\u001b[0;34m\u001b[0m\u001b[0m\n\u001b[0m\u001b[1;32m    164\u001b[0m         \u001b[0;32mif\u001b[0m \u001b[0mfilename\u001b[0m \u001b[0;32mis\u001b[0m \u001b[0;32mNone\u001b[0m\u001b[0;34m:\u001b[0m\u001b[0;34m\u001b[0m\u001b[0;34m\u001b[0m\u001b[0m\n\u001b[1;32m    165\u001b[0m             \u001b[0mfilename\u001b[0m \u001b[0;34m=\u001b[0m \u001b[0mgetattr\u001b[0m\u001b[0;34m(\u001b[0m\u001b[0mfileobj\u001b[0m\u001b[0;34m,\u001b[0m \u001b[0;34m'name'\u001b[0m\u001b[0;34m,\u001b[0m \u001b[0;34m''\u001b[0m\u001b[0;34m)\u001b[0m\u001b[0;34m\u001b[0m\u001b[0;34m\u001b[0m\u001b[0m\n",
      "\u001b[0;31mFileNotFoundError\u001b[0m: [Errno 2] No such file or directory: './train.csv.gz'"
     ],
     "ename": "FileNotFoundError",
     "evalue": "[Errno 2] No such file or directory: './train.csv.gz'",
     "output_type": "error"
    }
   ],
   "source": [
    "train = pd.read_csv('./train.csv.gz',index_col=0)\n",
    "test = pd.read_csv('./test2.csv.gz',index_col=0)\n",
    "print(train.shape)\n",
    "print(test.shape)"
   ]
  },
  {
   "cell_type": "code",
   "execution_count": 3,
   "metadata": {},
   "outputs": [],
   "source": [
    "### 看看数据当中有没有值都一样的column，这种column没有用，删掉\n",
    "print('train')\n",
    "for col in train.columns: # 每一列\n",
    "    n_unique = train[col].nunique() #该列当中唯一值的个数\n",
    "    if n_unique == 1:\n",
    "        train = train.drop([col],axis=1)\n",
    "        test = test.drop([col],axis=1)\n",
    "        print(col, 'is unique') #重点\n",
    "print()\n",
    "print('test')\n",
    "for col in test.columns: # 每一列\n",
    "    n_unique = test[col].nunique() #该列当中唯一值的个数\n",
    "    if n_unique == 1:\n",
    "        train = train.drop([col],axis=1)\n",
    "        test = test.drop([col],axis=1)\n",
    "        print(col, 'is unique') #重点\n",
    "print(train.shape)\n",
    "print(test.shape)"
   ]
  },
  {
   "cell_type": "code",
   "execution_count": 4,
   "metadata": {
    "scrolled": true
   },
   "outputs": [],
   "source": [
    "print('train')\n",
    "print(train.select_dtypes(include='object').isnull().sum()[train.select_dtypes(include='object').isnull().sum()>0])\n",
    "print()\n",
    "print('test')\n",
    "print(test.select_dtypes(include='object').isnull().sum()[test.select_dtypes(include='object').isnull().sum()>0])"
   ]
  },
  {
   "cell_type": "code",
   "execution_count": 5,
   "metadata": {
    "scrolled": true
   },
   "outputs": [],
   "source": [
    "for col in ['seller_state', 'seller_province', 'buyer_state', 'buyer_zip_code', \n",
    "            'event_home_team', 'event_primary_grouping', 'zone', \n",
    "            'section', 'row_descr', 'repeat_buyer_type', \n",
    "            'since_last_purchase', 'user_agent', 'browser', \n",
    "            'os_type', 'promotion']:\n",
    "    train[col]=train[col].fillna('None')\n",
    "    test[col]=test[col].fillna('None')\n",
    "print(train.isnull().sum().sum())\n",
    "print(test.isnull().sum().sum())\n",
    "print(train.columns)"
   ]
  },
  {
   "cell_type": "code",
   "execution_count": 6,
   "metadata": {
    "scrolled": true
   },
   "outputs": [],
   "source": [
    "cols = train.columns.tolist()\n",
    "cols = cols[-1:] + cols[:-1]\n",
    "train = train[cols]\n",
    "print(train.columns)"
   ]
  },
  {
   "cell_type": "code",
   "execution_count": 7,
   "metadata": {},
   "outputs": [],
   "source": [
    "dataset = pd.concat([train,test], sort=False)\n",
    "print(dataset.shape)"
   ]
  },
  {
   "cell_type": "code",
   "execution_count": 8,
   "metadata": {
    "scrolled": true
   },
   "outputs": [],
   "source": [
    "from sklearn.preprocessing import LabelEncoder\n",
    "for col in ['listing_source', 'buyer_cbt']:\n",
    "    print(col)\n",
    "    encodered = LabelEncoder().fit(np.array(dataset[col].astype(str).to_list()))\n",
    "    dataset['encode_' + col] = encodered.transform(dataset[col].astype(str).values)\n",
    "    print(dataset['encode_' + col].value_counts())\n",
    "    print()"
   ]
  },
  {
   "cell_type": "code",
   "execution_count": 9,
   "metadata": {
    "scrolled": true
   },
   "outputs": [],
   "source": [
    "# seller join days\n",
    "seller_join_datetime = pd.to_datetime(dataset['sale_timestamp'],utc=True).sub(pd.to_datetime(dataset['seller_join_date'],utc=True))\n",
    "dataset['seller_join_days'] = seller_join_datetime/np.timedelta64(1,'D')\n",
    "print(dataset['seller_join_days'].value_counts())"
   ]
  },
  {
   "cell_type": "code",
   "execution_count": 10,
   "metadata": {
    "scrolled": true
   },
   "outputs": [],
   "source": [
    "# inhand days since sale\n",
    "dataset['sale_to_inhand_days'] = pd.to_datetime(dataset['inhand_date']).sub(pd.to_datetime(dataset['sale_timestamp']), axis=0).dt.days\n",
    "print(dataset['sale_to_inhand_days'].value_counts())\n",
    "# days among sale, inhand, event\n",
    "def func_inhand_to_event_days(row):\n",
    "    if row['sale_to_inhand_days'] < 0:\n",
    "        return row['sale_to_event_days']\n",
    "    else:\n",
    "        return row['inhand_to_event_days']\n",
    "dataset['sale_to_event_days'] = pd.to_datetime(dataset['event_timestamp']).sub(pd.to_datetime(dataset['sale_timestamp']), axis=0).dt.days\n",
    "print(dataset['sale_to_event_days'].value_counts())\n",
    "print()\n",
    "dataset['inhand_to_event_days'] = pd.to_datetime(dataset['event_timestamp']).sub(pd.to_datetime(dataset['inhand_date']), axis=0).dt.days\n",
    "print(dataset['inhand_to_event_days'].value_counts())"
   ]
  },
  {
   "cell_type": "code",
   "execution_count": 11,
   "metadata": {
    "scrolled": true
   },
   "outputs": [],
   "source": [
    "# sale date feature\n",
    "sale_date = pd.DatetimeIndex(pd.to_datetime(dataset['sale_timestamp'],utc=True))\n",
    "dataset['_sale_hour'] = sale_date.hour\n",
    "print(dataset['_sale_hour'].value_counts())\n",
    "dataset['_sale_day'] = sale_date.day\n",
    "print(dataset['_sale_day'].value_counts())\n",
    "dataset['_sale_weekday'] = sale_date.weekday\n",
    "print(dataset['_sale_weekday'].value_counts())\n",
    "dataset['_sale_month'] = sale_date.month\n",
    "print(dataset['_sale_month'].value_counts())\n",
    "dataset['_sale_year'] = sale_date.year\n",
    "print(dataset['_sale_year'].value_counts())"
   ]
  },
  {
   "cell_type": "code",
   "execution_count": 12,
   "metadata": {
    "scrolled": true
   },
   "outputs": [],
   "source": [
    "# event date feature\n",
    "event_date = pd.DatetimeIndex(pd.to_datetime(dataset['event_timestamp'],utc=True))\n",
    "dataset['_event_day'] = event_date.day\n",
    "print(dataset['_event_day'].value_counts())\n",
    "dataset['_event_weekday'] = event_date.weekday\n",
    "print(dataset['_event_weekday'].value_counts())\n",
    "dataset['_event_month'] = event_date.month\n",
    "print(dataset['_event_month'].value_counts())\n",
    "dataset['_event_year'] = event_date.year\n",
    "print(dataset['_event_year'].value_counts())"
   ]
  },
  {
   "cell_type": "code",
   "execution_count": 13,
   "metadata": {
    "scrolled": true
   },
   "outputs": [],
   "source": [
    "# inhand date feature\n",
    "inhand_date = pd.DatetimeIndex(pd.to_datetime(dataset['inhand_date'],utc=True))\n",
    "def func_inhand_day_since_sale(row):\n",
    "    if row['sale_to_inhand_days'] < 0:\n",
    "        return row['_sale_day']\n",
    "    else:\n",
    "        return row['_inhand_day']\n",
    "dataset['_inhand_day'] = inhand_date.day\n",
    "print(dataset['_inhand_day'].value_counts())\n",
    "dataset['_inhand_day_since_sale'] = dataset.apply(func_inhand_day_since_sale, axis=1)\n",
    "print(dataset['_inhand_day_since_sale'].value_counts())\n",
    "print()\n",
    "def func_inhand_weekday_since_sale(row):\n",
    "    if row['sale_to_inhand_days'] < 0:\n",
    "        return row['_sale_weekday']\n",
    "    else:\n",
    "        return row['_inhand_weekday']\n",
    "dataset['_inhand_weekday'] = inhand_date.weekday\n",
    "print(dataset['_inhand_weekday'].value_counts())\n",
    "dataset['_inhand_weekday_since_sale'] = dataset.apply(func_inhand_weekday_since_sale, axis=1)\n",
    "print(dataset['_inhand_weekday_since_sale'].value_counts())\n",
    "print()\n",
    "def func_inhand_month_since_sale(row):\n",
    "    if row['sale_to_inhand_days'] < 0:\n",
    "        return row['_sale_month']\n",
    "    else:\n",
    "        return row['_inhand_month']\n",
    "dataset['_inhand_month'] = inhand_date.month\n",
    "print(dataset['_inhand_month'].value_counts())\n",
    "dataset['_inhand_month_since_sale'] = dataset.apply(func_inhand_month_since_sale, axis=1)\n",
    "print(dataset['_inhand_month_since_sale'].value_counts())\n",
    "print()\n",
    "def func_inhand_year_since_sale(row):\n",
    "    if row['sale_to_inhand_days'] < 0:\n",
    "        return row['_sale_year']\n",
    "    else:\n",
    "        return row['_inhand_year']\n",
    "dataset['_inhand_year'] = inhand_date.year\n",
    "print(dataset['_inhand_year'].value_counts())\n",
    "dataset['_inhand_year_since_sale'] = dataset.apply(func_inhand_year_since_sale, axis=1)\n",
    "print(dataset['_inhand_year_since_sale'].value_counts())"
   ]
  },
  {
   "cell_type": "code",
   "execution_count": 14,
   "metadata": {},
   "outputs": [],
   "source": [
    "import calendar\n",
    "def func_get_monday(year, month, index):\n",
    "    c = calendar.Calendar(firstweekday=calendar.SUNDAY)\n",
    "    monthcal = c.monthdatescalendar(year,month)\n",
    "    return [day for week in monthcal for day in week if \\\n",
    "                    day.weekday() == calendar.MONDAY and \\\n",
    "                    day.month == month][index].day\n",
    "def func_get_thursday(year, month, index):\n",
    "    c = calendar.Calendar(firstweekday=calendar.SUNDAY)\n",
    "    monthcal = c.monthdatescalendar(year,month)\n",
    "    return [day for week in monthcal for day in week if \\\n",
    "                    day.weekday() == calendar.THURSDAY and \\\n",
    "                    day.month == month][index].day"
   ]
  },
  {
   "cell_type": "code",
   "execution_count": 15,
   "metadata": {},
   "outputs": [],
   "source": [
    "def func_is_sale_holiday(row):\n",
    "    if row['_sale_month'] == 1:\n",
    "        if row['_sale_day'] in [1-func_get_monday(int(row['_sale_year']), 1, 0), \n",
    "                                 func_get_monday(int(row['_sale_year']), 1, 2)]:\n",
    "            return 1\n",
    "        else:\n",
    "            return 0\n",
    "    elif row['_sale_month'] == 2:\n",
    "        if row['_sale_day'] == func_get_monday(int(row['_sale_year']), 2, 2):\n",
    "            return 1\n",
    "        else:\n",
    "            return 0\n",
    "    elif row['_sale_month'] == 5:\n",
    "        if row['_sale_day'] == func_get_monday(int(row['_sale_year']), 5, -1):\n",
    "            return 1\n",
    "        else:\n",
    "            return 0\n",
    "    elif row['_sale_month'] == 7:\n",
    "        if row['_sale_day'] in [4, 5]:\n",
    "            return 1\n",
    "        else:\n",
    "            return 0\n",
    "    elif row['_sale_month'] == 9:\n",
    "        if row['_sale_day'] == func_get_monday(int(row['_sale_year']), 9, 0):\n",
    "            return 1\n",
    "        else:\n",
    "            return 0\n",
    "    elif row['_sale_month'] == 10:\n",
    "        if row['_sale_day'] == func_get_monday(int(row['_sale_year']), 10, 1):\n",
    "            return 1\n",
    "        else:\n",
    "            return 0\n",
    "    elif row['_sale_month'] == 11:\n",
    "        if row['_sale_day'] in [11, func_get_thursday(int(row['_sale_year']), 11, -1)]:\n",
    "            return 1\n",
    "        else:\n",
    "            return 0\n",
    "    elif row['_sale_month'] == 12:\n",
    "        if row['_sale_day'] in [18-31]:\n",
    "            return 1\n",
    "        else:\n",
    "            return 0\n",
    "    else:\n",
    "        return 0\n",
    "dataset['_sale_day_holiday'] = 0\n",
    "dataset['_sale_day_holiday'] = dataset.apply(func_is_sale_holiday, axis=1)\n",
    "dataset['_sale_day_holiday'].value_counts()"
   ]
  },
  {
   "cell_type": "code",
   "execution_count": 16,
   "metadata": {},
   "outputs": [],
   "source": [
    "def func_is_inhand_holiday(row):\n",
    "    if row['_inhand_month'] == 1:\n",
    "        if row['_inhand_day'] in [1-func_get_monday(int(row['_inhand_year']), 1, 0), \n",
    "                                             func_get_monday(int(row['_inhand_year']), 1, 2)]:\n",
    "            return 1\n",
    "        else:\n",
    "            return 0\n",
    "    elif row['_inhand_month'] == 2:\n",
    "        if row['_inhand_day'] == func_get_monday(int(row['_inhand_year']), 2, 2):\n",
    "            return 1\n",
    "        else:\n",
    "            return 0\n",
    "    elif row['_inhand_month'] == 5:\n",
    "        if row['_inhand_day'] == func_get_monday(int(row['_inhand_year']), 5, -1):\n",
    "            return 1\n",
    "        else:\n",
    "            return 0\n",
    "    elif row['_inhand_month'] == 7:\n",
    "        if row['_inhand_day'] in [4, 5]:\n",
    "            return 1\n",
    "        else:\n",
    "            return 0\n",
    "    elif row['_inhand_month'] == 9:\n",
    "        if row['_inhand_day'] == func_get_monday(int(row['_inhand_year']), 9, 0):\n",
    "            return 1\n",
    "        else:\n",
    "            return 0\n",
    "    elif row['_inhand_month'] == 10:\n",
    "        if row['_inhand_day'] == func_get_monday(int(row['_inhand_year']), 10, 1):\n",
    "            return 1\n",
    "        else:\n",
    "            return 0\n",
    "    elif row['_inhand_month'] == 11:\n",
    "        if row['_inhand_day'] in [11, func_get_thursday(int(row['_inhand_year']), 11, -1)]:\n",
    "            return 1\n",
    "        else:\n",
    "            return 0\n",
    "    elif row['_inhand_month'] == 12:\n",
    "        if row['_inhand_day'] in [18-31]:\n",
    "            return 1\n",
    "        else:\n",
    "            return 0\n",
    "    else:\n",
    "        return 0\n",
    "dataset['_inhand_day_holiday'] = 0\n",
    "dataset['_inhand_day_holiday'] = dataset.apply(func_is_inhand_holiday, axis=1)\n",
    "dataset['_inhand_day_holiday'].value_counts()"
   ]
  },
  {
   "cell_type": "code",
   "execution_count": 17,
   "metadata": {},
   "outputs": [],
   "source": [
    "def func_is_event_holiday(row):\n",
    "    if row['_event_month'] == 1:\n",
    "        if row['_event_day'] in [1-func_get_monday(int(row['_event_year']), 1, 0), \n",
    "                                             func_get_monday(int(row['_event_year']), 1, 2)]:\n",
    "            return 1\n",
    "        else:\n",
    "            return 0\n",
    "    elif row['_event_month'] == 2:\n",
    "        if row['_event_day'] == func_get_monday(int(row['_event_year']), 2, 2):\n",
    "            return 1\n",
    "        else:\n",
    "            return 0\n",
    "    elif row['_event_month'] == 5:\n",
    "        if row['_event_day'] == func_get_monday(int(row['_event_year']), 5, -1):\n",
    "            return 1\n",
    "        else:\n",
    "            return 0\n",
    "    elif row['_event_month'] == 7:\n",
    "        if row['_event_day'] in [4, 5]:\n",
    "            return 1\n",
    "        else:\n",
    "            return 0\n",
    "    elif row['_event_month'] == 9:\n",
    "        if row['_event_day'] == func_get_monday(int(row['_event_year']), 9, 0):\n",
    "            return 1\n",
    "        else:\n",
    "            return 0\n",
    "    elif row['_event_month'] == 10:\n",
    "        if row['_event_day'] == func_get_monday(int(row['_event_year']), 10, 1):\n",
    "            return 1\n",
    "        else:\n",
    "            return 0\n",
    "    elif row['_event_month'] == 11:\n",
    "        if row['_event_day'] in [11, func_get_thursday(int(row['_event_year']), 11, -1)]:\n",
    "            return 1\n",
    "        else:\n",
    "            return 0\n",
    "    elif row['_event_month'] == 12:\n",
    "        if row['_event_day'] in [18-31]:\n",
    "            return 1\n",
    "        else:\n",
    "            return 0\n",
    "    else:\n",
    "        return 0\n",
    "dataset['_event_day_holiday'] = 0\n",
    "dataset['_event_day_holiday'] = dataset.apply(func_is_inhand_holiday, axis=1)\n",
    "dataset['_event_day_holiday'].value_counts()"
   ]
  },
  {
   "cell_type": "code",
   "execution_count": 18,
   "metadata": {
    "scrolled": true
   },
   "outputs": [],
   "source": [
    "# 观察一下可能是分类特征的列\n",
    "for col in dataset.columns: # 每一列\n",
    "    n_unique = dataset[col].nunique() #该列当中唯一值的个数\n",
    "    if 2 < n_unique < 35:\n",
    "        print(col, n_unique) #重点\n",
    "        print(dataset[col].value_counts())\n",
    "        print()"
   ]
  },
  {
   "cell_type": "code",
   "execution_count": 19,
   "metadata": {
    "scrolled": true
   },
   "outputs": [],
   "source": [
    "# category some feature for one hot\n",
    "dataset['_event_ucf'] = ['other' if i in ['Fights', 'Rugby', 'Cricket']\n",
    "                              else i\n",
    "                              for i in dataset['event_ucf']]\n",
    "print(dataset['_event_ucf'].value_counts())\n",
    "print()\n",
    "dataset['_experience'] = ['Unknown' if i == 'Native App - Kiosk' \n",
    "                              else i\n",
    "                              for i in dataset['experience']]\n",
    "print(dataset['_experience'].value_counts())\n",
    "print()\n",
    "dataset['_seller_tool'] = ['other' if i in ['VIP Access', 'Fortbend Tickets', 'Ticket Exchange USA', \n",
    "                                           'Dkagan', 'ETB System', 'Billets CA', 'BeyondSports']\n",
    "                           else i\n",
    "                           for i in dataset['seller_tool']]\n",
    "print(dataset['_seller_tool'].value_counts())"
   ]
  },
  {
   "cell_type": "code",
   "execution_count": 20,
   "metadata": {
    "scrolled": true
   },
   "outputs": [],
   "source": [
    "# 观察一下可能是分类特征的列\n",
    "for col in dataset.columns: # 每一列\n",
    "    n_unique = dataset[col].nunique() #该列当中唯一值的个数\n",
    "    if 2 < n_unique < 35:\n",
    "        print(col, n_unique) #重点"
   ]
  },
  {
   "cell_type": "code",
   "execution_count": 21,
   "metadata": {},
   "outputs": [],
   "source": [
    "# one hot\n",
    "dummies_encode = pd.get_dummies(pd.DataFrame(dataset, \n",
    "                                             columns=['seller_type', 'time_to_event', 'event_type', \n",
    "                                                      'event_gtl', 'issue_type', 'listing_type', \n",
    "                                                      'delivery_method', 'seller_segment_group', 'seller_segment',\n",
    "                                                      '_event_ucf', '_experience', '_seller_tool']))\n",
    "dataset = pd.concat([dataset,dummies_encode], axis =1, sort=False)\n",
    "print(dataset.shape)"
   ]
  },
  {
   "cell_type": "code",
   "execution_count": 22,
   "metadata": {},
   "outputs": [],
   "source": [
    "len_train=len(train)\n",
    "train=dataset[:len_train]\n",
    "test=dataset[len_train:]\n",
    "train.head(1000).to_csv('./watch.csv')\n",
    "print(train.shape)\n",
    "print(test.shape)"
   ]
  },
  {
   "cell_type": "code",
   "execution_count": 23,
   "metadata": {
    "scrolled": true
   },
   "outputs": [],
   "source": [
    "for col in train.columns:\n",
    "    if train[col].dtype == bool:\n",
    "        print(col)\n",
    "        train = train.drop([col],axis=1)\n",
    "for col in train.columns:\n",
    "    if train[col].dtype == object:\n",
    "        print(col)\n",
    "        train = train.drop([col],axis=1)\n",
    "print(train.shape)\n",
    "print(train.columns)"
   ]
  },
  {
   "cell_type": "code",
   "execution_count": 24,
   "metadata": {
    "scrolled": true
   },
   "outputs": [],
   "source": [
    "import matplotlib.pyplot as plt\n",
    "import seaborn as sns\n",
    "plt.figure(figsize=[150,75])\n",
    "sns.heatmap(train.corr(), annot=True)"
   ]
  },
  {
   "cell_type": "code",
   "execution_count": 25,
   "metadata": {
    "scrolled": true
   },
   "outputs": [],
   "source": [
    "# 观察一下可能是分类特征的列\n",
    "for col in train.columns: # 每一列\n",
    "    n_unique = train[col].nunique() #该列当中唯一值的个数\n",
    "    if 2 < n_unique < 35:\n",
    "        print(col, n_unique) #重点\n",
    "        print(train[col].value_counts())\n",
    "        print()"
   ]
  },
  {
   "cell_type": "code",
   "execution_count": 26,
   "metadata": {},
   "outputs": [],
   "source": [
    "print(train.columns[100:])\n",
    "print(train.columns[:100])"
   ]
  },
  {
   "cell_type": "code",
   "execution_count": 27,
   "metadata": {},
   "outputs": [],
   "source": [
    "features = ['seller_total_orders',\n",
    "\n",
    "            'ticket_cost', \n",
    "            'sell_fee', \n",
    "            'logistics_fee', \n",
    "            'seller_payout', \n",
    "            'gms', \n",
    "            \n",
    "#             'encode_listing_source',\n",
    "#             'encode_buyer_cbt',\n",
    "\n",
    "            'seller_join_days',\n",
    "            \n",
    "            'sale_to_inhand_days',\n",
    "            'sale_to_event_days',\n",
    "            'inhand_to_event_days',\n",
    "            \n",
    "            '_sale_hour', \n",
    "            '_sale_day', \n",
    "            '_sale_weekday', \n",
    "            \n",
    "            '_event_weekday', \n",
    "            \n",
    "            '_inhand_day_since_sale', \n",
    "            '_inhand_weekday_since_sale', \n",
    "            \n",
    "            '_sale_day_holiday', \n",
    "            '_event_day_holiday', \n",
    "            '_inhand_day_holiday', \n",
    "            \n",
    "            'seller_type_Indy', \n",
    "            'seller_type_Large Seller', \n",
    "            \n",
    "            'time_to_event_25-48 Hours',\n",
    "            'time_to_event_49-72 Hours', \n",
    "            'time_to_event_73 Hours-1 Week',\n",
    "            'time_to_event_> 1 Week',\n",
    "            \n",
    "            'event_type_Regular',\n",
    "            'event_type_Other', \n",
    "            'event_type_Parking', \n",
    "            'event_type_Post-Season', \n",
    "            'event_type_Pre-Season', \n",
    "            \n",
    "            'event_gtl_Concerts', \n",
    "            'event_gtl_Sports', \n",
    "            'event_gtl_Theater', \n",
    "\n",
    "            '_event_ucf_Concerts', \n",
    "            '_event_ucf_Theater', \n",
    "            '_event_ucf_College Football', \n",
    "            '_event_ucf_All Other Sports', \n",
    "            '_event_ucf_College Basketball',  \n",
    "            '_event_ucf_Music Festival', \n",
    "            '_event_ucf_NBA', \n",
    "            '_event_ucf_NFL', \n",
    "            '_event_ucf_NHL', \n",
    "            '_event_ucf_Motorsports', \n",
    "            '_event_ucf_Comedy',\n",
    "            '_event_ucf_Tennis',\n",
    "            '_event_ucf_MLB',\n",
    "            '_event_ucf_Soccer',  \n",
    "            \n",
    "            '_experience_Desktop', \n",
    "            '_experience_Native App',\n",
    "            \n",
    "#             'issue_type_No Issue', \n",
    "            \n",
    "#             'listing_type_Bulk', \n",
    "#             'listing_type_Relist', \n",
    "#             'listing_type_Single', \n",
    "            \n",
    "            '_seller_tool_ULF', \n",
    "            '_seller_tool_Auto Processor',\n",
    "            '_seller_tool_1Ticket',\n",
    "            '_seller_tool_iPhone App',\n",
    "            '_seller_tool_TicketUtils',\n",
    "            '_seller_tool_Cloakify',\n",
    "            '_seller_tool_TicketAttendant', \n",
    "            '_seller_tool_SkyBox', \n",
    "            '_seller_tool_StageFront', \n",
    "            '_seller_tool_Android App', \n",
    "            '_seller_tool_Auto Pilot', \n",
    "            '_seller_tool_ASC', \n",
    "            '_seller_tool_TicketTechnology', \n",
    "            '_seller_tool_Relist - Web', \n",
    "            '_seller_tool_StubHub Pro', \n",
    "            '_seller_tool_ASC', \n",
    "            '_seller_tool_Relist - iPhone App', \n",
    "            '_seller_tool_Sell More Tickets', \n",
    "            '_seller_tool_YS Tickets', \n",
    "            '_seller_tool_ABL', \n",
    "            '_seller_tool_STH', \n",
    "            '_seller_tool_Other - APIs', \n",
    "            '_seller_tool_Sales Pro', \n",
    "            '_seller_tool_ZeroHero', \n",
    "            '_seller_tool_Kikkoman', \n",
    "            \n",
    "            'delivery_method_UPS 2 Business Days - Intra-USA', \n",
    "            'delivery_method_UPS Next Business Day PM - Intra-USA', \n",
    "            'delivery_method_UPS Next Business Day - Intra-USA',\n",
    "            'delivery_method_UPS Worldwide Saver', \n",
    "            'delivery_method_UPS Express Saver - Intra-CA', \n",
    "            \n",
    "            'seller_segment_group_B2C', \n",
    "            'seller_segment_group_C2C', \n",
    "            \n",
    "            'seller_segment_Attempted Seller', \n",
    "            'seller_segment_Business', \n",
    "            'seller_segment_Churned Seller',\n",
    "            'seller_segment_Occasional Consumer', \n",
    "            'seller_segment_Pro Consumer', \n",
    "            'seller_segment_Regular Consumer'\n",
    "           ]\n",
    "pd.Series(features).shape"
   ]
  },
  {
   "cell_type": "code",
   "execution_count": 28,
   "metadata": {},
   "outputs": [],
   "source": [
    "X_train = train[[col for col in train.columns if col in features]]\n",
    "# 按照评价标准变换一下\n",
    "Y_train = (train['target_days']+1).apply(np.log)\n",
    "\n",
    "X_test = test[[col for col in test.columns if col in features]]\n",
    "X_train.shape, Y_train.shape, X_test.shape"
   ]
  },
  {
   "cell_type": "code",
   "execution_count": 29,
   "metadata": {},
   "outputs": [],
   "source": [
    "from sklearn.ensemble import GradientBoostingRegressor\n",
    "model = GradientBoostingRegressor(n_estimators=200,verbose=1, random_state=23).fit(X_train,Y_train)"
   ]
  },
  {
   "cell_type": "code",
   "execution_count": 30,
   "metadata": {},
   "outputs": [],
   "source": [
    "sampleSubmission = pd.read_csv('./sampleSubmission2.csv.gz',index_col=0)\n",
    "sampleSubmission['target_days'] = np.round(np.exp(model.predict(X_test))-1)\n",
    "print(sampleSubmission['target_days'].value_counts())\n",
    "sampleSubmission.to_csv('./Carlos-1.csv')"
   ]
  },
  {
   "cell_type": "code",
   "execution_count": 31,
   "metadata": {},
   "outputs": [],
   "source": [
    "# len_train=len(train)\n",
    "# train=dataset[:len_train]\n",
    "# test=dataset[len_train:]\n",
    "# train.to_csv('./train.csv')\n",
    "# test.to_csv('./test.csv')\n",
    "# train.head(1000).to_csv('./watch.csv')\n",
    "# print(train.shape)\n",
    "# print(test.shape)"
   ]
  }
 ],
 "metadata": {
  "kernelspec": {
   "display_name": "Python 3",
   "language": "python",
   "name": "python3"
  },
  "language_info": {
   "codemirror_mode": {
    "name": "ipython",
    "version": 3
   },
   "file_extension": ".py",
   "mimetype": "text/x-python",
   "name": "python",
   "nbconvert_exporter": "python",
   "pygments_lexer": "ipython3",
   "version": "3.7.4"
  }
 },
 "nbformat": 4,
 "nbformat_minor": 4
}